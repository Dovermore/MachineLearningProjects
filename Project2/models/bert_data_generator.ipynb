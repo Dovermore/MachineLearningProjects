{
 "cells": [
  {
   "cell_type": "code",
   "execution_count": 1,
   "metadata": {},
   "outputs": [],
   "source": [
    "%run data_loading.ipynb"
   ]
  },
  {
   "cell_type": "code",
   "execution_count": 9,
   "metadata": {},
   "outputs": [
    {
     "data": {
      "text/plain": [
       "((103360, 3), (37300, 3), (140660, 3))"
      ]
     },
     "execution_count": 9,
     "metadata": {},
     "output_type": "execute_result"
    }
   ],
   "source": [
    "df_train.shape, df_dev.shape, df.shape"
   ]
  },
  {
   "cell_type": "code",
   "execution_count": 20,
   "metadata": {},
   "outputs": [],
   "source": [
    "import os\n",
    "from os import path\n",
    "import pandas as pd\n",
    "from sklearn.preprocessing import LabelEncoder\n",
    "from sklearn.model_selection import train_test_split\n",
    "from pandas import DataFrame\n",
    " \n",
    "label_encoder = LabelEncoder()\n",
    " \n",
    "df_train = load_data_file(type=\"train\", content=\"raw\")\n",
    "df_dev = load_data_file(type=\"dev\", content=\"raw\")\n",
    "df = pd.concat([df_train, df_dev])\n",
    " \n",
    "# Creating train and dev dataframes according to BERT\n",
    "df_bert = pd.DataFrame({'id':df['Instance_ID'],\n",
    "            'label':le.fit_transform(df['Location']),\n",
    "            'alpha':['a']*df.shape[0],\n",
    "            'text':df['Text']})\n",
    " \n",
    "df_bert_train, df_bert_dev = train_test_split(df_bert, test_size=0.05)\n",
    " \n",
    "# Creating test dataframe according to BERT\n",
    "df_test = load_data_file(type=\"test\", content=\"raw\")\n",
    "df_bert_test = pd.DataFrame({'id':df_test['Instance_ID'],\n",
    "                 'text':df_test['Text']})\n",
    " \n",
    "    \n",
    "save_to = path.join(\"..\", \"..\", \"bert_data\")\n",
    "    \n",
    "# Saving dataframes to .tsv format as required by BERT\n",
    "df_bert_train.to_csv(path.join(save_to, 'train.tsv'), sep='\\t', index=False, header=False)\n",
    "df_bert_dev.to_csv(path.join(save_to, 'dev.tsv'), sep='\\t', index=False, header=False)\n",
    "df_bert_test.to_csv(path.join(save_to, 'test.tsv'), sep='\\t', index=False, header=True)"
   ]
  }
 ],
 "metadata": {
  "kernelspec": {
   "display_name": "Python 3",
   "language": "python",
   "name": "python3"
  },
  "language_info": {
   "codemirror_mode": {
    "name": "ipython",
    "version": 3
   },
   "file_extension": ".py",
   "mimetype": "text/x-python",
   "name": "python",
   "nbconvert_exporter": "python",
   "pygments_lexer": "ipython3",
   "version": "3.7.3"
  }
 },
 "nbformat": 4,
 "nbformat_minor": 2
}
