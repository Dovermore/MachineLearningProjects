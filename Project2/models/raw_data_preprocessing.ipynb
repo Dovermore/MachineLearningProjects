{
 "cells": [
  {
   "cell_type": "code",
   "execution_count": 1,
   "metadata": {},
   "outputs": [],
   "source": [
    "# Raw data preprocessing"
   ]
  },
  {
   "cell_type": "code",
   "execution_count": 2,
   "metadata": {},
   "outputs": [],
   "source": [
    "\"\"\"\n",
    "This function transfroms escaped unicode to real unicode for tokenization\n",
    "\"\"\"\n",
    "import re\n",
    "\n",
    "\n",
    "def _process_unicode(m):\n",
    "    '''process(m) -> Unicode code point\n",
    "\n",
    "    m is a regular expression match object that has groups below:\n",
    "     1: high Unicode surrogate 4-digit hex code d800-dbff\n",
    "     2: low  Unicode surrogate 4-digit hex code dc00-dfff\n",
    "     3: None\n",
    "    OR\n",
    "     1: None\n",
    "     2: None\n",
    "     3: Unicode 4-digit hex code 0000-d700,e000-ffff\n",
    "    '''\n",
    "    if m.group(3) is None:\n",
    "        # Construct code point from UTF-16 surrogates\n",
    "        hi = int(m.group(1),16) & 0x3FF\n",
    "        lo = int(m.group(2),16) & 0x3FF\n",
    "        cp = 0x10000 | hi << 10 | lo\n",
    "    else:\n",
    "        cp = int(m.group(3),16)\n",
    "    return chr(cp)\n",
    "\n",
    "def process_unicode(m):\n",
    "    return re.sub(r'\\\\u(d[89ab][0-9a-f]{2})\\\\u(d[cdef][0-9a-f]{2})|\\\\u([0-9a-f]{4})',process_unicode,m)"
   ]
  },
  {
   "cell_type": "code",
   "execution_count": 5,
   "metadata": {},
   "outputs": [],
   "source": [
    "\"\"\"\n",
    "This part has the function for removing punctuation from string\n",
    "\"\"\"\n",
    "def remove_punct(text):\n",
    "    text  = \"\".join([char for char in text if char not in string.punctuation])\n",
    "    text = re.sub('[0-9]+', '', text)\n",
    "    return text"
   ]
  },
  {
   "cell_type": "code",
   "execution_count": 8,
   "metadata": {},
   "outputs": [],
   "source": [
    "from sklearn.base import TransformerMixin, BaseEstimator\n",
    "import preprocessor as p\n",
    "\n",
    "\n",
    "class RawDataTokenizer(TransformerMixin, BaseEstimator):\n",
    "    def __init__(self, unescape_unicode=True, clean_type=\"Tokenize\", remove_punct=True, stemming=True, text_col=\"Text\"):\n",
    "        self._unescape_unicode = unescape_unicode, \n",
    "        self._clean_type = clean_type\n",
    "        self._remove_punct = remove_punct\n",
    "        self._stemming = stemming\n",
    "        self._text_col = t\n",
    "        \n",
    "    def fit(self, X, y=None):\n",
    "        return self\n",
    "    \n",
    "    def transform(self, X, y=None):\n",
    "        if self._unescape_unicode:\n",
    "            X[self._text_col] = X.apply(lambda row: full_process_unicode(row[self._text_col]), axis=1, result_type=\"expand\")\n",
    "            \n",
    "        if self._clean_type == \"tokenize\":\n",
    "            X[self._text_col] = X.apply(lambda row: p.tokenize(row[self._text_col]), axis=1, result_type=\"expand\")\n",
    "        elif self._clean_type == \"clean\":\n",
    "            X[self._text_col] = X.apply(lambda row: p.clean(row[self._text_col]), axis=1, result_type=\"expand\")\n",
    "        else:\n",
    "            raise ValueError(f\"Invalid clean_type: {self._clean_type}\")\n",
    "        \n",
    "        if self._remove_punct:\n",
    "            X[self._text_col] = X.apply(lambda row: remove_punct(row[self._text_col]))\n",
    "            \n",
    "        if self._stemming:\n",
    "            # TODO put stemming here\n",
    "            pass\n",
    "        \n",
    "        return X\n",
    "    \n",
    "class TweetLengthExtractor(TransformerMixin, BaseEstimator):\n",
    "    def __init__(self):\n",
    "        pass\n",
    "    \n",
    "    def fit(self, X, y=None):\n",
    "        return self\n",
    "    \n",
    "    def transform(self, X, y=None):\n",
    "        # TODO\n",
    "        return"
   ]
  },
  {
   "cell_type": "code",
   "execution_count": null,
   "metadata": {},
   "outputs": [],
   "source": []
  }
 ],
 "metadata": {
  "kernelspec": {
   "display_name": "Python 3",
   "language": "python",
   "name": "python3"
  },
  "language_info": {
   "codemirror_mode": {
    "name": "ipython",
    "version": 3
   },
   "file_extension": ".py",
   "mimetype": "text/x-python",
   "name": "python",
   "nbconvert_exporter": "python",
   "pygments_lexer": "ipython3",
   "version": "3.7.3"
  }
 },
 "nbformat": 4,
 "nbformat_minor": 2
}
